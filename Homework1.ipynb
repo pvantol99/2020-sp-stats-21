{
 "cells": [
  {
   "cell_type": "markdown",
   "metadata": {},
   "source": [
    "# Homework 1 (17th April 2020)\n",
    "\n",
    "\n",
    "### Problem 1\n",
    "\n",
    "- (A) In both cases, Python produces a \"SyntaxError\" message, so an issue in the syntax of the code. When missing both parantheses or the first one, Python recognizes the parantheses are missing and suggests a solution, returning the error message \"Missing parentheses in call to 'print'. Did you mean print(\"Hello, world\")?\" In the case of missing a parantheses at the end of the code, it also recognizes a \"SyntaxError\", however, in this case the error is that the function ends unexpectedly and as a result no suggestion is given:  \"unexpected EOF while parsing\".\n",
    "\n"
   ]
  },
  {
   "cell_type": "markdown",
   "metadata": {},
   "source": [
    "- (B) When you leave out the first or both of the quotation marks, Python thinks the input in the brackets refers to variables, in this case, named Hello and world. As these are undefined, it returns a NameError telling us the name is not defined. If the input contains values that cannot be contained in a variable name, Python will return a SyntaxError, as it considers the input a set of variables that cannot contain these values. Lastly, if only the second quotation mark is left out, Python knows the input is meant to be a string and thus returns a SyntaxError, adding that the error was the line ending while scanning the string literal."
   ]
  },
  {
   "cell_type": "markdown",
   "metadata": {},
   "source": [
    "- (C) The addition of - or + signs follows the rules of mathematics, i.e. an even number of - operators is converted to one positive and thus addition, an odd number of - operators is converted to one negative and thus subtraction, and any amount of + operators remains positive and ends in addition. As a result, 3 - - 2 for example has two negatives and thus becomes 3 + 2 = 5. Furthermore, spaces make no difference. Lastly, adding multiplication or division in between two +/- operators creates a SyntaxError, as this would be incorrect mathematical notation."
   ]
  },
  {
   "cell_type": "markdown",
   "metadata": {},
   "source": [
    "- (D)  Python throws a SyntaxError. Leading zeros are only allowed in decimal numbers in the version Python3. In previous versions of python, leading zeros were allowed for integers too, however the first 0 acted as an indicator that the following number should be evluated in the octal numeral system, meaning for example 0015 would return 13."
   ]
  },
  {
   "cell_type": "markdown",
   "metadata": {},
   "source": [
    "- (E) Python throws a SyntaxError, as it cannot interpret two numbers with no connection to each other that are not part of any function or bigger entity. It does not expect one number to be followed by another but rather some type of connector between them, an operator. As a result, another number is invalid syntactically. "
   ]
  },
  {
   "cell_type": "code",
   "execution_count": 12,
   "metadata": {},
   "outputs": [
    {
     "ename": "SyntaxError",
     "evalue": "invalid syntax (<ipython-input-12-26a4654c9884>, line 1)",
     "output_type": "error",
     "traceback": [
      "\u001b[0;36m  File \u001b[0;32m\"<ipython-input-12-26a4654c9884>\"\u001b[0;36m, line \u001b[0;32m1\u001b[0m\n\u001b[0;31m    3 2\u001b[0m\n\u001b[0m      ^\u001b[0m\n\u001b[0;31mSyntaxError\u001b[0m\u001b[0;31m:\u001b[0m invalid syntax\n"
     ]
    }
   ],
   "source": [
    "3 2"
   ]
  },
  {
   "cell_type": "markdown",
   "metadata": {},
   "source": [
    "### Problem 2"
   ]
  },
  {
   "cell_type": "code",
   "execution_count": 1,
   "metadata": {},
   "outputs": [
    {
     "name": "stdout",
     "output_type": "stream",
     "text": [
      "2562\n",
      "There are 2562 seconds in 42 minutes and 42 seconds.\n"
     ]
    }
   ],
   "source": [
    "#(A)\n",
    "\n",
    "seconds = 42*60 + 42\n",
    "print(seconds)\n",
    "print(\"There are \" + str(seconds) + \" seconds in 42 minutes and 42 seconds.\")"
   ]
  },
  {
   "cell_type": "code",
   "execution_count": 2,
   "metadata": {},
   "outputs": [
    {
     "name": "stdout",
     "output_type": "stream",
     "text": [
      "6.211180124223602\n",
      "There are 6.211180124223602 miles in 10 kilometers.\n"
     ]
    }
   ],
   "source": [
    "#(B)\n",
    "\n",
    "m_in_10k = 10/1.61\n",
    "print(m_in_10k)\n",
    "print(\"There are \" + str(m_in_10k) + \" miles in 10 kilometers.\")"
   ]
  },
  {
   "cell_type": "code",
   "execution_count": 3,
   "metadata": {},
   "outputs": [
    {
     "name": "stdout",
     "output_type": "stream",
     "text": [
      "My average 1-mile pace is 6 minutes and 52 seconds.\n"
     ]
    }
   ],
   "source": [
    "#(C)\n",
    "\n",
    "miletime_s = round(seconds/m_in_10k)\n",
    "miletime_m_val = miletime_s // 60 \n",
    "miletime_s_val = miletime_s % 60\n",
    "\n",
    "\n",
    "print(\"My average 1-mile pace is \" + str(miletime_m_val) + \" minutes and \" + str(miletime_s_val) + \" seconds.\")"
   ]
  },
  {
   "cell_type": "markdown",
   "metadata": {},
   "source": [
    "### Problem 3\n",
    "\n"
   ]
  },
  {
   "cell_type": "markdown",
   "metadata": {},
   "source": [
    "- (A)  The code `42 = n` is not legal. It will throw a \"SyntaxError: can't assign to literal\". (see below)"
   ]
  },
  {
   "cell_type": "code",
   "execution_count": 4,
   "metadata": {},
   "outputs": [
    {
     "ename": "SyntaxError",
     "evalue": "can't assign to literal (<ipython-input-4-f0c37ed646fc>, line 1)",
     "output_type": "error",
     "traceback": [
      "\u001b[0;36m  File \u001b[0;32m\"<ipython-input-4-f0c37ed646fc>\"\u001b[0;36m, line \u001b[0;32m1\u001b[0m\n\u001b[0;31m    42 = n\u001b[0m\n\u001b[0m          ^\u001b[0m\n\u001b[0;31mSyntaxError\u001b[0m\u001b[0;31m:\u001b[0m can't assign to literal\n"
     ]
    }
   ],
   "source": [
    "42 = n"
   ]
  },
  {
   "cell_type": "markdown",
   "metadata": {},
   "source": [
    "- (B) `x = y = 1` is  a legal statement. It assigns x and y the value 1."
   ]
  },
  {
   "cell_type": "code",
   "execution_count": 10,
   "metadata": {},
   "outputs": [],
   "source": [
    "x = y = 1"
   ]
  },
  {
   "cell_type": "markdown",
   "metadata": {},
   "source": [
    "- (C) In Python the semi-colon appears to mark the end of a statement. It allows you to add another separate command in the same line. As a result, when you add a semi-colon, python anticipates another separate command in the same line. Therefore, there is no \"Out\" when no command follows after the first one."
   ]
  },
  {
   "cell_type": "code",
   "execution_count": 22,
   "metadata": {},
   "outputs": [
    {
     "name": "stdout",
     "output_type": "stream",
     "text": [
      "11\n"
     ]
    }
   ],
   "source": [
    "print(5+6); 10+10;"
   ]
  },
  {
   "cell_type": "markdown",
   "metadata": {},
   "source": [
    "- (D) This depends on the statement. If it follows an integer, the integer will simply be considered a float. However, in general it will cause a \"SyntaxError: invalid syntax\"."
   ]
  },
  {
   "cell_type": "code",
   "execution_count": 25,
   "metadata": {},
   "outputs": [],
   "source": [
    "n = 42."
   ]
  },
  {
   "cell_type": "code",
   "execution_count": 27,
   "metadata": {},
   "outputs": [
    {
     "ename": "SyntaxError",
     "evalue": "invalid syntax (<ipython-input-27-c982353236ac>, line 1)",
     "output_type": "error",
     "traceback": [
      "\u001b[0;36m  File \u001b[0;32m\"<ipython-input-27-c982353236ac>\"\u001b[0;36m, line \u001b[0;32m1\u001b[0m\n\u001b[0;31m    print(56).\u001b[0m\n\u001b[0m              ^\u001b[0m\n\u001b[0;31mSyntaxError\u001b[0m\u001b[0;31m:\u001b[0m invalid syntax\n"
     ]
    }
   ],
   "source": [
    "print(56)."
   ]
  },
  {
   "cell_type": "markdown",
   "metadata": {},
   "source": [
    "- (E) The difference between the two lines is the way n will be stored. The number followed by a period causes the value to be interpreted and stored as a float, whereas the number without a period is considered and stored as an integer by Python. "
   ]
  },
  {
   "cell_type": "code",
   "execution_count": 118,
   "metadata": {},
   "outputs": [
    {
     "name": "stdout",
     "output_type": "stream",
     "text": [
      "<class 'float'>\n"
     ]
    }
   ],
   "source": [
    "print(type(42.))"
   ]
  },
  {
   "cell_type": "code",
   "execution_count": 117,
   "metadata": {},
   "outputs": [
    {
     "name": "stdout",
     "output_type": "stream",
     "text": [
      "<class 'int'>\n"
     ]
    }
   ],
   "source": [
    "print(type(42))"
   ]
  },
  {
   "cell_type": "markdown",
   "metadata": {},
   "source": [
    "### Problem 4"
   ]
  },
  {
   "cell_type": "code",
   "execution_count": 42,
   "metadata": {},
   "outputs": [],
   "source": [
    "# (A)\n",
    "import numpy as np\n",
    "def sphere_volume(r):\n",
    "    volume = (4/3)*np.pi*(r**3)\n",
    "    return volume\n"
   ]
  },
  {
   "cell_type": "code",
   "execution_count": 43,
   "metadata": {},
   "outputs": [
    {
     "name": "stdout",
     "output_type": "stream",
     "text": [
      "The volume of a sphere with radius 5 is 523.5987755982989\n"
     ]
    }
   ],
   "source": [
    "print(\"The volume of a sphere with radius 5 is \" + str(sphere_volume(5)))"
   ]
  },
  {
   "cell_type": "code",
   "execution_count": 44,
   "metadata": {},
   "outputs": [
    {
     "name": "stdout",
     "output_type": "stream",
     "text": [
      "The volume of a sphere with radius 15 is 14137.166941154068\n"
     ]
    }
   ],
   "source": [
    "print(\"The volume of a sphere with radius 15 is \" + str(sphere_volume(15)))"
   ]
  },
  {
   "cell_type": "code",
   "execution_count": 71,
   "metadata": {},
   "outputs": [],
   "source": [
    "#(B)\n",
    "def wholesale_cost(books):\n",
    "    cover_price = (0.6*24.95)*books\n",
    "    shipping = 3 + 0.75*(books-1)\n",
    "    totalcost = round(cover_price + shipping,2)\n",
    "    return totalcost"
   ]
  },
  {
   "cell_type": "code",
   "execution_count": 90,
   "metadata": {},
   "outputs": [
    {
     "name": "stdout",
     "output_type": "stream",
     "text": [
      "945.45\n",
      "The total wholesale cost for 60 copies will be $945.45.\n"
     ]
    }
   ],
   "source": [
    "print(wholesale_cost(60))\n",
    "print(\"The total wholesale cost for 60 copies will be $\" + str(wholesale_cost(60)) + \".\")"
   ]
  },
  {
   "cell_type": "code",
   "execution_count": 91,
   "metadata": {},
   "outputs": [
    {
     "name": "stdout",
     "output_type": "stream",
     "text": [
      "159.45\n",
      "The total wholesale cost for 10 copies will be $159.45.\n"
     ]
    }
   ],
   "source": [
    "print(wholesale_cost(10))\n",
    "print(\"The total wholesale cost for 10 copies will be $\" + str(wholesale_cost(10)) + \".\")"
   ]
  },
  {
   "cell_type": "code",
   "execution_count": 85,
   "metadata": {},
   "outputs": [],
   "source": [
    "#(C)\n",
    "def run_time(miles, warm_pace, fast_pace):\n",
    "    if(type(warm_pace) == str):\n",
    "        minsec_wp = warm_pace.split(\":\")\n",
    "        warm_pace = int(minsec_wp[0])*60 + int(minsec_wp[1])\n",
    "    \n",
    "    if(type(fast_pace) == str):\n",
    "        minsec_fp = fast_pace.split(\":\")\n",
    "        fast_pace = int(minsec_fp[0])*60 + int(minsec_fp[1])\n",
    "        \n",
    "        \n",
    "    warm_time = warm_pace*2\n",
    "    fast_time = fast_pace*(miles-2)\n",
    "    runtime = warm_time + fast_time\n",
    "    minutes = runtime // 60\n",
    "    seconds = runtime % 60\n",
    "    print(str(minutes) + \":\" + str(seconds)) \n",
    "    return minutes, seconds"
   ]
  },
  {
   "cell_type": "code",
   "execution_count": 119,
   "metadata": {},
   "outputs": [
    {
     "name": "stdout",
     "output_type": "stream",
     "text": [
      "38:6\n",
      "(38, 6)\n"
     ]
    }
   ],
   "source": [
    "print(run_time(5,495,432))"
   ]
  },
  {
   "cell_type": "code",
   "execution_count": 120,
   "metadata": {},
   "outputs": [
    {
     "name": "stdout",
     "output_type": "stream",
     "text": [
      "38:6\n",
      "(38, 6)\n"
     ]
    }
   ],
   "source": [
    "print(run_time(5,\"8:15\",\"7:12\"))"
   ]
  },
  {
   "cell_type": "markdown",
   "metadata": {},
   "source": [
    "### Problem 5"
   ]
  },
  {
   "cell_type": "code",
   "execution_count": 7,
   "metadata": {},
   "outputs": [],
   "source": [
    "import math as m\n",
    "\n",
    "def polar(real, imaginary):\n",
    "    r = m.sqrt(real**2 + imaginary**2)\n",
    "    theta = m.degrees(m.atan2(imaginary,real))\n",
    "    \n",
    "    return r, theta\n"
   ]
  },
  {
   "cell_type": "code",
   "execution_count": 8,
   "metadata": {},
   "outputs": [
    {
     "name": "stdout",
     "output_type": "stream",
     "text": [
      "(3.605551275463989, -123.69006752597979)\n"
     ]
    }
   ],
   "source": [
    "print(polar(-2,-3))"
   ]
  },
  {
   "cell_type": "code",
   "execution_count": 9,
   "metadata": {},
   "outputs": [
    {
     "name": "stdout",
     "output_type": "stream",
     "text": [
      "(1.4142135623730951, 45.0)\n"
     ]
    }
   ],
   "source": [
    "print(polar(1,+1))"
   ]
  },
  {
   "cell_type": "code",
   "execution_count": 11,
   "metadata": {},
   "outputs": [
    {
     "name": "stdout",
     "output_type": "stream",
     "text": [
      "(4.47213595499958, 26.56505117707799)\n"
     ]
    }
   ],
   "source": [
    "print(polar(4,2))"
   ]
  }
 ],
 "metadata": {
  "kernelspec": {
   "display_name": "Python 3",
   "language": "python",
   "name": "python3"
  },
  "language_info": {
   "codemirror_mode": {
    "name": "ipython",
    "version": 3
   },
   "file_extension": ".py",
   "mimetype": "text/x-python",
   "name": "python",
   "nbconvert_exporter": "python",
   "pygments_lexer": "ipython3",
   "version": "3.7.6"
  }
 },
 "nbformat": 4,
 "nbformat_minor": 4
}
